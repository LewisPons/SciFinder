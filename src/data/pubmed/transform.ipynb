{
 "cells": [
  {
   "cell_type": "code",
   "execution_count": 108,
   "metadata": {},
   "outputs": [
    {
     "name": "stdout",
     "output_type": "stream",
     "text": [
      "Loaded 28836 JSON files.\n",
      "Errors catched: 0\n"
     ]
    }
   ],
   "source": [
    "import os\n",
    "import json\n",
    "from typing import List, Dict\n",
    "import polars as pl\n",
    "import pandas as pd\n",
    "\n",
    "EXPECTED_COL_SCHEMA = ['pmid', 'year', 'abstract_text', 'abstract_title', 'abstract_authors_list']\n",
    "\n",
    "directory = '/Users/luis.morales/personal-dev/SciFinder/data/raw/pubmed/'\n",
    "\n",
    "def validate_json_pubmed_schema(single_pubmed_json: Dict[str, str]) -> bool:\n",
    "    \"Validates that given Dictionary have the correct Schema\"\n",
    "    \n",
    "    pubmed_col_schema = list(single_pubmed_json.keys())\n",
    "\n",
    "    return EXPECTED_COL_SCHEMA == pubmed_col_schema\n",
    "\n",
    "\n",
    "def validate_pubmed_structure(json_files: List[Dict[str, str]]) -> List[int]:\n",
    "    \"Validates that given List of Dictionaries have the correct Schema and return the ones that did not match\"\n",
    "    error_logs = []\n",
    "\n",
    "    for idx, json_file in enumerate(json_files):\n",
    "        if validate_json_pubmed_schema(json_file) == False:\n",
    "            error_logs.append(idx)\n",
    "            \n",
    "        return error_logs\n",
    "\n",
    "\n",
    "def load_json(file_path):\n",
    "    try:\n",
    "        with open(file_path, 'r') as file:\n",
    "            data = json.load(file)\n",
    "        return data\n",
    "    except FileNotFoundError:\n",
    "        print(f\"Error: The file at {file_path} was not found.\")\n",
    "        return None\n",
    "    except json.JSONDecodeError:\n",
    "        print(f\"Error: The file at {file_path} is not a valid JSON file.\")\n",
    "        return None\n",
    "\n",
    "\n",
    "\n",
    "def load_pubmed_json_files(directory: str) -> List[Dict]:\n",
    "    data = []\n",
    "    data_error_logs = []\n",
    "\n",
    "    for filename in os.listdir(directory):\n",
    "        if filename.endswith('.json'):\n",
    "            \n",
    "            filepath = os.path.join(directory, filename)\n",
    "\n",
    "            file_data = load_json(filepath)\n",
    "            data.extend(file_data)\n",
    "\n",
    "            error_logs = validate_pubmed_structure(file_data)\n",
    "\n",
    "            if error_logs != []:\n",
    "                log = {\n",
    "                    filepath: error_logs\n",
    "                }\n",
    "                data_error_logs.append(log)\n",
    "                \n",
    "\n",
    "    return data, data_error_logs\n",
    "\n",
    "# Load all JSON files\n",
    "data_parsed, error_logs = load_pubmed_json_files(directory)\n",
    "\n",
    "# Print the number of files loaded\n",
    "print(f\"Loaded {len(data_parsed)} JSON files.\")\n",
    "print(f\"Errors catched: {len(error_logs)}\")"
   ]
  },
  {
   "cell_type": "code",
   "execution_count": 107,
   "metadata": {},
   "outputs": [
    {
     "data": {
      "text/html": [
       "<div><style>\n",
       ".dataframe > thead > tr,\n",
       ".dataframe > tbody > tr {\n",
       "  text-align: right;\n",
       "  white-space: pre-wrap;\n",
       "}\n",
       "</style>\n",
       "<small>shape: (28_836, 5)</small><table border=\"1\" class=\"dataframe\"><thead><tr><th>pmid</th><th>year</th><th>abstract_text</th><th>abstract_title</th><th>abstract_authors_list</th></tr><tr><td>i64</td><td>i64</td><td>str</td><td>str</td><td>list[str]</td></tr></thead><tbody><tr><td>35931</td><td>1979</td><td>&quot;1. Of the scarce Calyptra minu…</td><td>&quot;Skin-piercing blood-sucking mo…</td><td>[&quot;Bänziger&quot;]</td></tr><tr><td>35932</td><td>1979</td><td>&quot;The formation of the peritroph…</td><td>&quot;Peritrophic membrane formation…</td><td>[&quot;Houk&quot;, &quot;Obie&quot;, &quot;Hardy&quot;]</td></tr><tr><td>35933</td><td>1979</td><td>&quot;The source of blood meals from…</td><td>&quot;The feeding habits and ecology…</td><td>[&quot;Snow&quot;, &quot;Boreham&quot;]</td></tr><tr><td>35934</td><td>1979</td><td>&quot;Activation of complement by pa…</td><td>&quot;Complement activation by paras…</td><td>[&quot;Santoro&quot;, &quot;Bernal&quot;, &quot;Capron&quot;]</td></tr><tr><td>35935</td><td>1979</td><td>&quot;This paper presents evidence t…</td><td>&quot;Tsetse movement in wind fields…</td><td>[&quot;Molyneux&quot;, &quot;Baldry&quot;, &quot;Fairhurst&quot;]</td></tr><tr><td>&hellip;</td><td>&hellip;</td><td>&hellip;</td><td>&hellip;</td><td>&hellip;</td></tr><tr><td>45951</td><td>1975</td><td>&quot;A general mathematical formula…</td><td>&quot;Detection of neuroelectric sig…</td><td>[&quot;Nahvi&quot;, &quot;Woody&quot;, … &quot;Sharafat&quot;]</td></tr><tr><td>45953</td><td>1975</td><td>&quot;Direct recording from the stri…</td><td>&quot;Direct depth recording of the …</td><td>[&quot;Salzarule&quot;, &quot;Liary&quot;, … &quot;Stenal&quot;]</td></tr><tr><td>45954</td><td>1975</td><td>&quot;This study concerns a case of …</td><td>&quot;Disorganized relations of toni…</td><td>[&quot;De Barros-Ferreira&quot;, &quot;Chodkiewicz&quot;, … &quot;Salzarulo&quot;]</td></tr><tr><td>45955</td><td>1975</td><td>&quot;The effect of ochratoxin alone…</td><td>&quot;Effect of ochratoxin and aflat…</td><td>[&quot;Richard&quot;, &quot;Thurston&quot;, … &quot;Booth&quot;]</td></tr><tr><td>45956</td><td>1975</td><td>&quot;A mixture of aqueous solutions…</td><td>&quot;A supravital cytodiagnostic st…</td><td>[&quot;Sternheimer&quot;]</td></tr></tbody></table></div>"
      ],
      "text/plain": [
       "shape: (28_836, 5)\n",
       "┌───────┬──────┬───────────────────────────┬───────────────────────────┬───────────────────────────┐\n",
       "│ pmid  ┆ year ┆ abstract_text             ┆ abstract_title            ┆ abstract_authors_list     │\n",
       "│ ---   ┆ ---  ┆ ---                       ┆ ---                       ┆ ---                       │\n",
       "│ i64   ┆ i64  ┆ str                       ┆ str                       ┆ list[str]                 │\n",
       "╞═══════╪══════╪═══════════════════════════╪═══════════════════════════╪═══════════════════════════╡\n",
       "│ 35931 ┆ 1979 ┆ 1. Of the scarce Calyptra ┆ Skin-piercing             ┆ [\"Bänziger\"]              │\n",
       "│       ┆      ┆ minu…                     ┆ blood-sucking mo…         ┆                           │\n",
       "│ 35932 ┆ 1979 ┆ The formation of the      ┆ Peritrophic membrane      ┆ [\"Houk\", \"Obie\", \"Hardy\"] │\n",
       "│       ┆      ┆ peritroph…                ┆ formation…                ┆                           │\n",
       "│ 35933 ┆ 1979 ┆ The source of blood meals ┆ The feeding habits and    ┆ [\"Snow\", \"Boreham\"]       │\n",
       "│       ┆      ┆ from…                     ┆ ecology…                  ┆                           │\n",
       "│ 35934 ┆ 1979 ┆ Activation of complement  ┆ Complement activation by  ┆ [\"Santoro\", \"Bernal\",     │\n",
       "│       ┆      ┆ by pa…                    ┆ paras…                    ┆ \"Capron\"…                 │\n",
       "│ 35935 ┆ 1979 ┆ This paper presents       ┆ Tsetse movement in wind   ┆ [\"Molyneux\", \"Baldry\",    │\n",
       "│       ┆      ┆ evidence t…               ┆ fields…                   ┆ \"Fairhu…                  │\n",
       "│ …     ┆ …    ┆ …                         ┆ …                         ┆ …                         │\n",
       "│ 45951 ┆ 1975 ┆ A general mathematical    ┆ Detection of              ┆ [\"Nahvi\", \"Woody\", …      │\n",
       "│       ┆      ┆ formula…                  ┆ neuroelectric sig…        ┆ \"Sharafat…                │\n",
       "│ 45953 ┆ 1975 ┆ Direct recording from the ┆ Direct depth recording of ┆ [\"Salzarule\", \"Liary\", …  │\n",
       "│       ┆      ┆ stri…                     ┆ the …                     ┆ \"Sten…                    │\n",
       "│ 45954 ┆ 1975 ┆ This study concerns a     ┆ Disorganized relations of ┆ [\"De Barros-Ferreira\",    │\n",
       "│       ┆      ┆ case of …                 ┆ toni…                     ┆ \"Chodki…                  │\n",
       "│ 45955 ┆ 1975 ┆ The effect of ochratoxin  ┆ Effect of ochratoxin and  ┆ [\"Richard\", \"Thurston\", … │\n",
       "│       ┆      ┆ alone…                    ┆ aflat…                    ┆ \"Boo…                     │\n",
       "│ 45956 ┆ 1975 ┆ A mixture of aqueous      ┆ A supravital              ┆ [\"Sternheimer\"]           │\n",
       "│       ┆      ┆ solutions…                ┆ cytodiagnostic st…        ┆                           │\n",
       "└───────┴──────┴───────────────────────────┴───────────────────────────┴───────────────────────────┘"
      ]
     },
     "execution_count": 107,
     "metadata": {},
     "output_type": "execute_result"
    }
   ],
   "source": [
    "pl.DataFrame(data_parsed,orient='row')"
   ]
  }
 ],
 "metadata": {
  "kernelspec": {
   "display_name": ".venv",
   "language": "python",
   "name": "python3"
  },
  "language_info": {
   "codemirror_mode": {
    "name": "ipython",
    "version": 3
   },
   "file_extension": ".py",
   "mimetype": "text/x-python",
   "name": "python",
   "nbconvert_exporter": "python",
   "pygments_lexer": "ipython3",
   "version": "3.11.9"
  }
 },
 "nbformat": 4,
 "nbformat_minor": 2
}
